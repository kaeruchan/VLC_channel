{
 "cells": [
  {
   "cell_type": "code",
   "execution_count": 4,
   "metadata": {},
   "outputs": [
    {
     "ename": "DimensionMismatch",
     "evalue": "DimensionMismatch: cross product is only defined for vectors of length 3",
     "output_type": "error",
     "traceback": [
      "DimensionMismatch: cross product is only defined for vectors of length 3\n",
      "\n",
      "Stacktrace:\n",
      " [1] cross(a::Vector{Int64}, b::Vector{Float64})\n",
      "   @ LinearAlgebra /Applications/Julia-1.8.app/Contents/Resources/julia/share/julia/stdlib/v1.8/LinearAlgebra/src/generic.jl:312\n",
      " [2] top-level scope\n",
      "   @ ~/Library/CloudStorage/Dropbox/programming/julia/Project_VLC/src/test.ipynb:12"
     ]
    }
   ],
   "source": [
    "using Base\n",
    "using LinearAlgebra\n",
    "\n",
    "B1 = [1, 0]\n",
    "B2 = [1, 1]\n",
    "B3 = [0, 1]\n",
    "B4 = [0, 0]\n",
    "\n",
    "\n",
    "B = rand(2)\n",
    "\n",
    "a1 = (B2-B1) \n",
    "\n"
   ]
  }
 ],
 "metadata": {
  "kernelspec": {
   "display_name": "Julia 1.8.5",
   "language": "julia",
   "name": "julia-1.8"
  },
  "language_info": {
   "file_extension": ".jl",
   "mimetype": "application/julia",
   "name": "julia",
   "version": "1.8.5"
  },
  "orig_nbformat": 4
 },
 "nbformat": 4,
 "nbformat_minor": 2
}
